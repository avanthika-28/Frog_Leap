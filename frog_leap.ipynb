{
  "nbformat": 4,
  "nbformat_minor": 0,
  "metadata": {
    "colab": {
      "provenance": []
    },
    "kernelspec": {
      "name": "python3",
      "display_name": "Python 3"
    },
    "language_info": {
      "name": "python"
    }
  },
  "cells": [
    {
      "cell_type": "code",
      "execution_count": null,
      "metadata": {
        "id": "hb4sCaTSXnTg"
      },
      "outputs": [],
      "source": [
        "positions=['G','G','G','-','B','B','B']\n",
        "\n",
        "print('[0 , 1  , 2  , 3  , 4  , 5  , 6]')\n",
        "print(positions)\n",
        "while True:\n",
        "  pos = input(\"Press q to quit else \\n Enter the position : \")\n",
        "  if pos=='q':\n",
        "    print(\"YOU LOSS\")\n",
        "    break\n",
        "  pos = int(pos)\n",
        "\n",
        "  if pos<0 or 6<pos:\n",
        "    print(\"Invalid move\")\n",
        "    continue\n",
        "  if positions[pos]=='-':\n",
        "    print(\"Invalid move\")\n",
        "    continue\n",
        "\n",
        "  if positions[pos] == 'G':\n",
        "    if (pos +1)<=6 and positions[pos + 1] == '_':\n",
        "      pass\n",
        "    elif (pos+2)<=6 and positions[pos + 2] == '_'  and positions[pos+1=='B']:\n",
        "       pass\n",
        "    else:\n",
        "      print(\"\")\n",
        "\n",
        "  if positions[pos] == 'B':\n",
        "    if positions[pos - 1] == '_' and (pos -1)>=0:\n",
        "      pass\n",
        "    elif positions[pos - 2] == '_'and (pos - 2)>=0 and positions[pos-1=='G']:\n",
        "       pass\n",
        "    else:\n",
        "      print(\"\")\n",
        "\n",
        "  pos2=0\n",
        "  if positions[pos] == 'G':\n",
        "    if positions[pos + 1] == '-':\n",
        "      pos2=(pos+1)\n",
        "    elif positions[pos + 2] == '-':\n",
        "      pos2=(pos+2)\n",
        "  if positions[pos] == 'B':\n",
        "    if positions[pos - 1] == '-':\n",
        "      pos2=(pos-1)\n",
        "    elif positions[pos - 2] == '-':\n",
        "      pos2=(pos-2)\n",
        "  positions[pos],positions[pos2]=positions[pos2],positions[pos]\n",
        "\n",
        "  print('[0 , 1  , 2  , 3  , 4  , 5  , 6]')\n",
        "  print(positions)\n",
        "\n",
        "  if positions==['B','B','B','-','G','G','G']:\n",
        "    print(\"YOU WON\")\n",
        "    break"
      ]
    }
  ]
}