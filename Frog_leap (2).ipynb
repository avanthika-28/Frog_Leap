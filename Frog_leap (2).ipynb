{
  "nbformat": 4,
  "nbformat_minor": 0,
  "metadata": {
    "colab": {
      "provenance": []
    },
    "kernelspec": {
      "name": "python3",
      "display_name": "Python 3"
    },
    "language_info": {
      "name": "python"
    }
  },
  "cells": [
    {
      "cell_type": "code",
      "execution_count": null,
      "metadata": {
        "colab": {
          "base_uri": "https://localhost:8080/"
        },
        "id": "QWqMlJ5QPx9q",
        "outputId": "fee000cb-a21f-47f1-9d88-fea30f587fbd"
      },
      "outputs": [
        {
          "output_type": "stream",
          "name": "stdout",
          "text": [
            "[0 , 1  , 2  , 3  , 4  , 5  , 6]\n",
            "['G', 'G', 'G', '-', 'B', 'B', 'B']\n"
          ]
        }
      ],
      "source": [
        "positions = ['G', 'G', 'G', '-', 'B', 'B', 'B']\n",
        "\n",
        "print('[0 , 1  , 2  , 3  , 4  , 5  , 6]')\n",
        "print(positions)\n",
        "\n",
        "while True:\n",
        "    pos = input(\"Press 'q' to quit, else enter the position: \")\n",
        "\n",
        "    if pos == 'q':\n",
        "        print(\"YOU LOSE\")\n",
        "        break\n",
        "\n",
        "    try:\n",
        "        pos = int(pos)\n",
        "    except ValueError:\n",
        "        print(\"Invalid input. Please enter a number or 'q'.\")\n",
        "        continue\n",
        "\n",
        "    if pos < 0 or pos > 6:\n",
        "        print(\"Invalid move: out of bounds\")\n",
        "        continue\n",
        "\n",
        "    if positions[pos] == '-':\n",
        "        print(\"Invalid move: no piece at the selected position\")\n",
        "        continue\n",
        "\n",
        "    if positions[pos] == 'G':\n",
        "\n",
        "        if pos + 1 <= 6 and positions[pos + 1] == '-':\n",
        "            pos2 = pos + 1  # Move to the right\n",
        "        elif pos + 2 <= 6 and positions[pos + 1] == 'B' and positions[pos + 2] == '-':\n",
        "            pos2 = pos + 2  # Jump over 'B'\n",
        "        else:\n",
        "            print(\"Invalid move for 'G'\")\n",
        "            continue\n",
        "\n",
        "    elif positions[pos] == 'B':\n",
        "\n",
        "        if pos - 1 >= 0 and positions[pos - 1] == '-':\n",
        "            pos2 = pos - 1  # Move to the left\n",
        "        elif pos - 2 >= 0 and positions[pos - 1] == 'G' and positions[pos - 2] == '-':\n",
        "            pos2 = pos - 2  # Jump over 'G'\n",
        "        else:\n",
        "            print(\"Invalid move for 'B'\")\n",
        "            continue\n",
        "\n",
        "\n",
        "    positions[pos], positions[pos2] = positions[pos2], positions[pos]\n",
        "\n",
        "    print('[0 , 1  , 2  , 3  , 4  , 5  , 6]')\n",
        "    print(positions)\n",
        "\n",
        "\n",
        "    if positions == ['B', 'B', 'B', '-', 'G', 'G', 'G']:\n",
        "        print(\"YOU WON\")\n",
        "        break\n"
      ]
    }
  ]
}